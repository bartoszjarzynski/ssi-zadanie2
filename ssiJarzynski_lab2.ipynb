{
 "cells": [
  {
   "cell_type": "code",
   "execution_count": 1,
   "id": "a2dac0fc",
   "metadata": {},
   "outputs": [],
   "source": [
    "import pandas as pd"
   ]
  },
  {
   "cell_type": "code",
   "execution_count": 2,
   "id": "2b9b78ce",
   "metadata": {},
   "outputs": [],
   "source": [
    "import numpy as np"
   ]
  },
  {
   "cell_type": "code",
   "execution_count": 3,
   "id": "7b59beac",
   "metadata": {},
   "outputs": [],
   "source": [
    "import random"
   ]
  },
  {
   "cell_type": "code",
   "execution_count": 4,
   "id": "8fc8c189",
   "metadata": {},
   "outputs": [],
   "source": [
    "iris=pd.read_csv('C:\\\\Users\\\\bartj\\\\Downloads\\\\iris.csv')"
   ]
  },
  {
   "cell_type": "code",
   "execution_count": 25,
   "id": "74bb9dde",
   "metadata": {},
   "outputs": [],
   "source": [
    "class DataProcessing:\n",
    "    @staticmethod\n",
    "    def tasowanie(X):\n",
    "        for i in range(len(X)-1,0,-1):\n",
    "            j = random.randint(0, i)\n",
    "            X.iloc[i], X.iloc[j] = X.iloc[j], X.iloc[i]\n",
    "        return X\n",
    "    \n",
    "    @staticmethod\n",
    "    def normalizacja(X):\n",
    "        wynik = X.drop(\"variety\", axis=1)\n",
    "        wynik = (wynik-wynik.min())/(wynik.max()-wynik.min())\n",
    "        wynik = wynik.join(X[\"variety\"])\n",
    "        return wynik\n",
    "\n",
    "    @staticmethod\n",
    "    def podzial(X):\n",
    "        podz = int(len(X)*0.7)\n",
    "        trening = X[:podz] \n",
    "        valid =X[podz:]\n",
    "        return [trening, valid]"
   ]
  },
  {
   "cell_type": "code",
   "execution_count": 38,
   "id": "44555aaf",
   "metadata": {},
   "outputs": [],
   "source": [
    "class KNN:\n",
    "    @staticmethod\n",
    "    def dist(x, y, m):\n",
    "\n",
    "        d = 0\n",
    "        for i in range(len(x)-1):\n",
    "            d += abs(x.iloc[i]**m - y.iloc[i]**m)\n",
    "        d = d**(1/m)\n",
    "        return d\n",
    "    \n",
    "    def gruping(sample, X, k):\n",
    "        distsort = []\n",
    "        kolumny = {'Setosa': 0, 'Virginica': 0, 'Versicolor': 0}\n",
    "        for i in X.index:\n",
    "            distsort.append([KNN.dist(sample, X.iloc[i], 2), X.iloc[i].variety])\n",
    "            \n",
    "        distsort = sorted(distsort)                    \n",
    "        \n",
    "        for i in range(k):\n",
    "            kolumny[distsort[i][1]]+=1\n",
    "\n",
    "        return max(kolumny, key=kolumny.get)"
   ]
  },
  {
   "cell_type": "code",
   "execution_count": 39,
   "id": "75cfbee2",
   "metadata": {},
   "outputs": [],
   "source": [
    "tasowanie = DataProcessing.tasowanie(iris)\n",
    "t, v = DataProcessing.podzial(tasowanie)\n",
    "normalizacja = DataProcessing.normalizacja(tasowanie)"
   ]
  },
  {
   "cell_type": "code",
   "execution_count": 44,
   "id": "d800ab9e",
   "metadata": {},
   "outputs": [
    {
     "name": "stdout",
     "output_type": "stream",
     "text": [
      "k: 2 ; accuracy:  95.55555555555556 ; zgodne :  43\n",
      "k: 3 ; accuracy:  95.55555555555556 ; zgodne :  43\n",
      "k: 4 ; accuracy:  97.77777777777777 ; zgodne :  44\n"
     ]
    }
   ],
   "source": [
    "# k = 2\n",
    "k = 2\n",
    "zgodne = 0\n",
    "\n",
    "for i in v.iloc:\n",
    "    \n",
    "    ai = KNN.gruping(i, t, k)\n",
    "\n",
    "    if ai == i.variety:\n",
    "        zgodne += 1\n",
    "    \n",
    "dokladnosc = zgodne/len(v)*100\n",
    "print(\"k:\", k, \"; accuracy: \", dokladnosc, \"; zgodne : \", zgodne)\n",
    "\n",
    "\n",
    "# k = 3\n",
    "k = 3\n",
    "zgodne = 0\n",
    "\n",
    "for i in v.iloc:\n",
    "    \n",
    "    ai = KNN.gruping(i, t, k)\n",
    "\n",
    "    if ai == i.variety:\n",
    "        zgodne += 1\n",
    "    \n",
    "dokladnosc = zgodne/len(v)*100\n",
    "print(\"k:\", k, \"; accuracy: \", dokladnosc, \"; zgodne : \", zgodne)\n",
    "\n",
    "\n",
    "# k = 4\n",
    "k = 4\n",
    "zgodne = 0\n",
    "\n",
    "for i in v.iloc:\n",
    "    \n",
    "    ai = KNN.gruping(i, t, k)\n",
    "\n",
    "    if ai == i.variety:\n",
    "        zgodne += 1\n",
    "    \n",
    "dokladnosc = zgodne/len(v)*100\n",
    "print(\"k:\", k, \"; accuracy: \", dokladnosc, \"; zgodne : \", zgodne)"
   ]
  },
  {
   "cell_type": "code",
   "execution_count": null,
   "id": "f5423c02",
   "metadata": {},
   "outputs": [],
   "source": []
  }
 ],
 "metadata": {
  "kernelspec": {
   "display_name": "Python 3 (ipykernel)",
   "language": "python",
   "name": "python3"
  },
  "language_info": {
   "codemirror_mode": {
    "name": "ipython",
    "version": 3
   },
   "file_extension": ".py",
   "mimetype": "text/x-python",
   "name": "python",
   "nbconvert_exporter": "python",
   "pygments_lexer": "ipython3",
   "version": "3.9.7"
  }
 },
 "nbformat": 4,
 "nbformat_minor": 5
}
